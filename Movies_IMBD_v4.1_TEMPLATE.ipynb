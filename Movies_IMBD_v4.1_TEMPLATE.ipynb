{
 "cells": [
  {
   "cell_type": "code",
   "execution_count": 1,
   "metadata": {
    "_cell_guid": "b1076dfc-b9ad-4769-8c92-a6c4dae69d19",
    "_uuid": "8f2839f25d086af736a60e9eeb907d3b93b6e0e5",
    "colab": {},
    "colab_type": "code",
    "id": "U2D2gTdJVp90"
   },
   "outputs": [],
   "source": [
    "import numpy as np\n",
    "import pandas as pd\n",
    "import seaborn as sns\n",
    "import matplotlib.pyplot as plt\n",
    "from collections import Counter"
   ]
  },
  {
   "cell_type": "code",
   "execution_count": 155,
   "metadata": {
    "_cell_guid": "79c7e3d0-c299-4dcb-8224-4455121ee9b0",
    "_uuid": "d629ff2d2480ee46fbb7e2d37f6b5fab8052498a",
    "colab": {},
    "colab_type": "code",
    "id": "oyGfxL3eVp9-"
   },
   "outputs": [
    {
     "data": {
      "text/html": [
       "<div>\n",
       "<style scoped>\n",
       "    .dataframe tbody tr th:only-of-type {\n",
       "        vertical-align: middle;\n",
       "    }\n",
       "\n",
       "    .dataframe tbody tr th {\n",
       "        vertical-align: top;\n",
       "    }\n",
       "\n",
       "    .dataframe thead th {\n",
       "        text-align: right;\n",
       "    }\n",
       "</style>\n",
       "<table border=\"1\" class=\"dataframe\">\n",
       "  <thead>\n",
       "    <tr style=\"text-align: right;\">\n",
       "      <th></th>\n",
       "      <th>imdb_id</th>\n",
       "      <th>budget</th>\n",
       "      <th>revenue</th>\n",
       "      <th>original_title</th>\n",
       "      <th>cast</th>\n",
       "      <th>director</th>\n",
       "      <th>tagline</th>\n",
       "      <th>overview</th>\n",
       "      <th>runtime</th>\n",
       "      <th>genres</th>\n",
       "      <th>production_companies</th>\n",
       "      <th>release_date</th>\n",
       "      <th>vote_average</th>\n",
       "      <th>release_year</th>\n",
       "    </tr>\n",
       "  </thead>\n",
       "  <tbody>\n",
       "    <tr>\n",
       "      <th>128</th>\n",
       "      <td>tt2267998</td>\n",
       "      <td>61000000</td>\n",
       "      <td>369330363</td>\n",
       "      <td>Gone Girl</td>\n",
       "      <td>Ben Affleck|Rosamund Pike|Carrie Coon|Neil Pat...</td>\n",
       "      <td>David Fincher</td>\n",
       "      <td>You don't know what you've got 'til it's...</td>\n",
       "      <td>With his wife's disappearance having become th...</td>\n",
       "      <td>145</td>\n",
       "      <td>Mystery|Thriller|Drama</td>\n",
       "      <td>Twentieth Century Fox Film Corporation|Regency...</td>\n",
       "      <td>10/1/2014</td>\n",
       "      <td>7.9</td>\n",
       "      <td>2014</td>\n",
       "    </tr>\n",
       "    <tr>\n",
       "      <th>1493</th>\n",
       "      <td>tt0422720</td>\n",
       "      <td>40000000</td>\n",
       "      <td>60474340</td>\n",
       "      <td>Marie Antoinette</td>\n",
       "      <td>Kirsten Dunst|Jason Schwartzman|Judy Davis|Rip...</td>\n",
       "      <td>Sofia Coppola</td>\n",
       "      <td>Rumor. Scandal. Fame. Revolution.</td>\n",
       "      <td>The retelling of France's iconic but ill-fated...</td>\n",
       "      <td>123</td>\n",
       "      <td>Drama|History</td>\n",
       "      <td>American Zoetrope|Columbia Pictures Corporatio...</td>\n",
       "      <td>5/24/2006</td>\n",
       "      <td>6.5</td>\n",
       "      <td>2006</td>\n",
       "    </tr>\n",
       "    <tr>\n",
       "      <th>716</th>\n",
       "      <td>tt0410377</td>\n",
       "      <td>37000000</td>\n",
       "      <td>100076342</td>\n",
       "      <td>Nim's Island</td>\n",
       "      <td>Abigail Breslin|Jodie Foster|Gerard Butler|Mic...</td>\n",
       "      <td>Jennifer Flackett|Mark Levin</td>\n",
       "      <td>Your adventure starts here.</td>\n",
       "      <td>A young girl inhabits an isolated island with ...</td>\n",
       "      <td>96</td>\n",
       "      <td>Adventure|Comedy|Family|Fantasy</td>\n",
       "      <td>Walden Media</td>\n",
       "      <td>4/3/2008</td>\n",
       "      <td>5.5</td>\n",
       "      <td>2008</td>\n",
       "    </tr>\n",
       "    <tr>\n",
       "      <th>1204</th>\n",
       "      <td>tt1854564</td>\n",
       "      <td>90000000</td>\n",
       "      <td>174578751</td>\n",
       "      <td>Percy Jackson: Sea of Monsters</td>\n",
       "      <td>Logan Lerman|Alexandra Daddario|Douglas Smith|...</td>\n",
       "      <td>Thor Freudenthal</td>\n",
       "      <td>Where There Are Gods, There Are Monsters.</td>\n",
       "      <td>In their quest to confront the ultimate evil, ...</td>\n",
       "      <td>106</td>\n",
       "      <td>Adventure|Family|Fantasy</td>\n",
       "      <td>1492 Pictures|Dune Entertainment|Fox 2000 Pict...</td>\n",
       "      <td>8/7/2013</td>\n",
       "      <td>5.9</td>\n",
       "      <td>2013</td>\n",
       "    </tr>\n",
       "    <tr>\n",
       "      <th>301</th>\n",
       "      <td>tt1130080</td>\n",
       "      <td>22000000</td>\n",
       "      <td>35424826</td>\n",
       "      <td>The Informant!</td>\n",
       "      <td>Matt Damon|Scott Bakula|Joel McHale|Melanie Ly...</td>\n",
       "      <td>Steven Soderbergh</td>\n",
       "      <td>Based on a tattle-tale.</td>\n",
       "      <td>A rising star at agri-industry giant Archer Da...</td>\n",
       "      <td>108</td>\n",
       "      <td>Comedy|Crime|Drama|Thriller</td>\n",
       "      <td>Section Eight|Groundswell Productions|Warner B...</td>\n",
       "      <td>9/18/2009</td>\n",
       "      <td>6.0</td>\n",
       "      <td>2009</td>\n",
       "    </tr>\n",
       "  </tbody>\n",
       "</table>\n",
       "</div>"
      ],
      "text/plain": [
       "        imdb_id    budget    revenue                  original_title  \\\n",
       "128   tt2267998  61000000  369330363                       Gone Girl   \n",
       "1493  tt0422720  40000000   60474340                Marie Antoinette   \n",
       "716   tt0410377  37000000  100076342                    Nim's Island   \n",
       "1204  tt1854564  90000000  174578751  Percy Jackson: Sea of Monsters   \n",
       "301   tt1130080  22000000   35424826                  The Informant!   \n",
       "\n",
       "                                                   cast  \\\n",
       "128   Ben Affleck|Rosamund Pike|Carrie Coon|Neil Pat...   \n",
       "1493  Kirsten Dunst|Jason Schwartzman|Judy Davis|Rip...   \n",
       "716   Abigail Breslin|Jodie Foster|Gerard Butler|Mic...   \n",
       "1204  Logan Lerman|Alexandra Daddario|Douglas Smith|...   \n",
       "301   Matt Damon|Scott Bakula|Joel McHale|Melanie Ly...   \n",
       "\n",
       "                          director  \\\n",
       "128                  David Fincher   \n",
       "1493                 Sofia Coppola   \n",
       "716   Jennifer Flackett|Mark Levin   \n",
       "1204              Thor Freudenthal   \n",
       "301              Steven Soderbergh   \n",
       "\n",
       "                                          tagline  \\\n",
       "128   You don't know what you've got 'til it's...   \n",
       "1493            Rumor. Scandal. Fame. Revolution.   \n",
       "716                   Your adventure starts here.   \n",
       "1204    Where There Are Gods, There Are Monsters.   \n",
       "301                       Based on a tattle-tale.   \n",
       "\n",
       "                                               overview  runtime  \\\n",
       "128   With his wife's disappearance having become th...      145   \n",
       "1493  The retelling of France's iconic but ill-fated...      123   \n",
       "716   A young girl inhabits an isolated island with ...       96   \n",
       "1204  In their quest to confront the ultimate evil, ...      106   \n",
       "301   A rising star at agri-industry giant Archer Da...      108   \n",
       "\n",
       "                               genres  \\\n",
       "128            Mystery|Thriller|Drama   \n",
       "1493                    Drama|History   \n",
       "716   Adventure|Comedy|Family|Fantasy   \n",
       "1204         Adventure|Family|Fantasy   \n",
       "301       Comedy|Crime|Drama|Thriller   \n",
       "\n",
       "                                   production_companies release_date  \\\n",
       "128   Twentieth Century Fox Film Corporation|Regency...    10/1/2014   \n",
       "1493  American Zoetrope|Columbia Pictures Corporatio...    5/24/2006   \n",
       "716                                        Walden Media     4/3/2008   \n",
       "1204  1492 Pictures|Dune Entertainment|Fox 2000 Pict...     8/7/2013   \n",
       "301   Section Eight|Groundswell Productions|Warner B...    9/18/2009   \n",
       "\n",
       "      vote_average  release_year  \n",
       "128            7.9          2014  \n",
       "1493           6.5          2006  \n",
       "716            5.5          2008  \n",
       "1204           5.9          2013  \n",
       "301            6.0          2009  "
      ]
     },
     "execution_count": 155,
     "metadata": {},
     "output_type": "execute_result"
    }
   ],
   "source": [
    "data = pd.read_csv('movie_bd_v5.csv')\n",
    "data.sample(5)"
   ]
  },
  {
   "cell_type": "code",
   "execution_count": 3,
   "metadata": {
    "colab": {},
    "colab_type": "code",
    "id": "CoYUnagMVp-C"
   },
   "outputs": [
    {
     "data": {
      "text/html": [
       "<div>\n",
       "<style scoped>\n",
       "    .dataframe tbody tr th:only-of-type {\n",
       "        vertical-align: middle;\n",
       "    }\n",
       "\n",
       "    .dataframe tbody tr th {\n",
       "        vertical-align: top;\n",
       "    }\n",
       "\n",
       "    .dataframe thead th {\n",
       "        text-align: right;\n",
       "    }\n",
       "</style>\n",
       "<table border=\"1\" class=\"dataframe\">\n",
       "  <thead>\n",
       "    <tr style=\"text-align: right;\">\n",
       "      <th></th>\n",
       "      <th>budget</th>\n",
       "      <th>revenue</th>\n",
       "      <th>runtime</th>\n",
       "      <th>vote_average</th>\n",
       "      <th>release_year</th>\n",
       "    </tr>\n",
       "  </thead>\n",
       "  <tbody>\n",
       "    <tr>\n",
       "      <th>count</th>\n",
       "      <td>1.889000e+03</td>\n",
       "      <td>1.889000e+03</td>\n",
       "      <td>1889.000000</td>\n",
       "      <td>1889.000000</td>\n",
       "      <td>1889.000000</td>\n",
       "    </tr>\n",
       "    <tr>\n",
       "      <th>mean</th>\n",
       "      <td>5.431083e+07</td>\n",
       "      <td>1.553653e+08</td>\n",
       "      <td>109.658549</td>\n",
       "      <td>6.140762</td>\n",
       "      <td>2007.860773</td>\n",
       "    </tr>\n",
       "    <tr>\n",
       "      <th>std</th>\n",
       "      <td>4.858721e+07</td>\n",
       "      <td>2.146698e+08</td>\n",
       "      <td>18.017041</td>\n",
       "      <td>0.764763</td>\n",
       "      <td>4.468841</td>\n",
       "    </tr>\n",
       "    <tr>\n",
       "      <th>min</th>\n",
       "      <td>5.000000e+06</td>\n",
       "      <td>2.033165e+06</td>\n",
       "      <td>63.000000</td>\n",
       "      <td>3.300000</td>\n",
       "      <td>2000.000000</td>\n",
       "    </tr>\n",
       "    <tr>\n",
       "      <th>25%</th>\n",
       "      <td>2.000000e+07</td>\n",
       "      <td>3.456058e+07</td>\n",
       "      <td>97.000000</td>\n",
       "      <td>5.600000</td>\n",
       "      <td>2004.000000</td>\n",
       "    </tr>\n",
       "    <tr>\n",
       "      <th>50%</th>\n",
       "      <td>3.800000e+07</td>\n",
       "      <td>8.361541e+07</td>\n",
       "      <td>107.000000</td>\n",
       "      <td>6.100000</td>\n",
       "      <td>2008.000000</td>\n",
       "    </tr>\n",
       "    <tr>\n",
       "      <th>75%</th>\n",
       "      <td>7.200000e+07</td>\n",
       "      <td>1.782626e+08</td>\n",
       "      <td>120.000000</td>\n",
       "      <td>6.600000</td>\n",
       "      <td>2012.000000</td>\n",
       "    </tr>\n",
       "    <tr>\n",
       "      <th>max</th>\n",
       "      <td>3.800000e+08</td>\n",
       "      <td>2.781506e+09</td>\n",
       "      <td>214.000000</td>\n",
       "      <td>8.100000</td>\n",
       "      <td>2015.000000</td>\n",
       "    </tr>\n",
       "  </tbody>\n",
       "</table>\n",
       "</div>"
      ],
      "text/plain": [
       "             budget       revenue      runtime  vote_average  release_year\n",
       "count  1.889000e+03  1.889000e+03  1889.000000   1889.000000   1889.000000\n",
       "mean   5.431083e+07  1.553653e+08   109.658549      6.140762   2007.860773\n",
       "std    4.858721e+07  2.146698e+08    18.017041      0.764763      4.468841\n",
       "min    5.000000e+06  2.033165e+06    63.000000      3.300000   2000.000000\n",
       "25%    2.000000e+07  3.456058e+07    97.000000      5.600000   2004.000000\n",
       "50%    3.800000e+07  8.361541e+07   107.000000      6.100000   2008.000000\n",
       "75%    7.200000e+07  1.782626e+08   120.000000      6.600000   2012.000000\n",
       "max    3.800000e+08  2.781506e+09   214.000000      8.100000   2015.000000"
      ]
     },
     "execution_count": 3,
     "metadata": {},
     "output_type": "execute_result"
    }
   ],
   "source": [
    "data.describe()"
   ]
  },
  {
   "cell_type": "markdown",
   "metadata": {
    "colab_type": "text",
    "id": "DTIt7ezGVp-G"
   },
   "source": [
    "# Предобработка"
   ]
  },
  {
   "cell_type": "code",
   "execution_count": 4,
   "metadata": {
    "colab": {},
    "colab_type": "code",
    "id": "jNb40DwKVp-H"
   },
   "outputs": [],
   "source": [
    "answers = {} # создадим словарь для ответов\n",
    "\n",
    "# Добавляем столбец profit, который равен revenue-budget\n",
    "data = data.assign(profit = data.revenue - data.budget)\n",
    "\n",
    "#Добавляем столбец месяца 'month' в наши датафрейм\n",
    "data = data.assign(month =pd.DatetimeIndex(data['release_date']).month)\n",
    "\n",
    "\n",
    "# Функция перевода цифрового кода месяца в текстовый\n",
    "# Функция получает номер месяца и возвращает его наименование текстом на английском\n",
    "# Если название месяца не находится выдает значение 'Error' \n",
    "def func_month(x):\n",
    "    if x==1:\n",
    "        return 'January'\n",
    "    elif x==2:\n",
    "        return 'February'\n",
    "    elif x==3:\n",
    "        return 'March'\n",
    "    elif x==4:\n",
    "        return 'April'\n",
    "    elif x==5:\n",
    "        return 'May'\n",
    "    elif x==6:\n",
    "        return 'June'\n",
    "    elif x==7:\n",
    "        return 'July'\n",
    "    elif x==8:\n",
    "        return 'August'\n",
    "    elif x==9:\n",
    "        return 'September'\n",
    "    elif x==10:\n",
    "        return 'October'\n",
    "    elif x==11:\n",
    "        return 'November'\n",
    "    elif x==12:\n",
    "        return 'December'\n",
    "    else:        \n",
    "        return 'Error'\n",
    "    \n",
    "#Переводи числовые обозначения месяца в текстовые\n",
    "\n",
    "data['month'] = data.month.apply(func_month)\n",
    "    \n",
    "# Функция определения сезона\n",
    "# Функция получает названи месяца на английском и возвращает название сезона на английском\n",
    "# Если название сезона не находится выдает значение 'Error' \n",
    "def func_season(x):\n",
    "    if x in ('January','February','December'):\n",
    "        return 'Winter'\n",
    "    elif x in ('March','April','May'):\n",
    "        return 'Spring'\n",
    "    elif x in ('June','July','August'):\n",
    "        return 'Summer'\n",
    "    elif x in ('September', 'October', 'November'):\n",
    "        return 'Autumn'\n",
    "    else:\n",
    "        return 'Error'\n",
    "#Создаем столбец Сезон в текстовом формате\n",
    "data['season'] = data.month.apply(func_season)\n",
    "\n",
    "# Описать функции по нормальному"
   ]
  },
  {
   "cell_type": "markdown",
   "metadata": {
    "colab_type": "text",
    "id": "YxZaH-nPVp-L"
   },
   "source": [
    "# 1. У какого фильма из списка самый большой бюджет?"
   ]
  },
  {
   "cell_type": "markdown",
   "metadata": {
    "colab_type": "text",
    "id": "Nd-G5gX6Vp-M"
   },
   "source": [
    "Использовать варианты ответов в коде решения запрещено.    \n",
    "Вы думаете и в жизни у вас будут варианты ответов?)"
   ]
  },
  {
   "cell_type": "code",
   "execution_count": 5,
   "metadata": {
    "colab": {},
    "colab_type": "code",
    "id": "dZwb3m28Vp-S"
   },
   "outputs": [
    {
     "data": {
      "text/plain": [
       "723    Pirates of the Caribbean: On Stranger Tides\n",
       "Name: original_title, dtype: object"
      ]
     },
     "execution_count": 5,
     "metadata": {},
     "output_type": "execute_result"
    }
   ],
   "source": [
    "#Для нахождения ответа нам нужно найти в Датафрейме data строку с максимальным значением 'budget'\n",
    "data.loc[data['budget']==data.budget.max()]\n",
    "#В ответе сразу заметно, что в столбце 'cast' имя Пенелопы Круз с ошибками кодировки\n",
    "\n",
    "# Укороченная запись, просто берет данные из массива\n",
    "answers['1'] = data.loc[data['budget']==data.budget.max()].original_title\n",
    "answers['1'] # Выводим ответ"
   ]
  },
  {
   "cell_type": "markdown",
   "metadata": {
    "colab_type": "text",
    "id": "K7L3nbRXVp-X"
   },
   "source": [
    "ВАРИАНТ 2"
   ]
  },
  {
   "cell_type": "code",
   "execution_count": 6,
   "metadata": {
    "colab": {},
    "colab_type": "code",
    "id": "OGaoQI7rVp-X"
   },
   "outputs": [
    {
     "data": {
      "text/plain": [
       "723    Pirates of the Caribbean: On Stranger Tides (t...\n",
       "dtype: object"
      ]
     },
     "execution_count": 6,
     "metadata": {},
     "output_type": "execute_result"
    }
   ],
   "source": [
    "# Вариант с номером строки, названием и кодом imdb\n",
    "answers['1'] = data.loc[data['budget']==data.budget.max()].original_title + ' (' + data.loc[data['budget']==data.budget.max()].imdb_id + ')'\n",
    "answers['1'] # Выводим ответ"
   ]
  },
  {
   "cell_type": "markdown",
   "metadata": {
    "colab_type": "text",
    "id": "FNRbbI3vVp-c"
   },
   "source": [
    "# 2. Какой из фильмов самый длительный (в минутах)?"
   ]
  },
  {
   "cell_type": "code",
   "execution_count": 7,
   "metadata": {
    "colab": {},
    "colab_type": "code",
    "id": "vHAoEXNTVp-d"
   },
   "outputs": [
    {
     "data": {
      "text/plain": [
       "1157    Gods and Generals\n",
       "Name: original_title, dtype: object"
      ]
     },
     "execution_count": 7,
     "metadata": {},
     "output_type": "execute_result"
    }
   ],
   "source": [
    "# Логика такая же, как и в предидущем вопросе, меняется только столбец\n",
    "# в котором мы ищем на 'runtime'\n",
    "data.loc[data['runtime']==data.runtime.max()]\n",
    "answers['2'] = data.loc[data['runtime']==data.runtime.max()].original_title\n",
    "answers['2'] # Выводим ответ"
   ]
  },
  {
   "cell_type": "markdown",
   "metadata": {},
   "source": [
    "ВАРИАНТ 2"
   ]
  },
  {
   "cell_type": "code",
   "execution_count": 8,
   "metadata": {},
   "outputs": [
    {
     "data": {
      "text/plain": [
       "1157    Gods and Generals (tt0279111)\n",
       "dtype: object"
      ]
     },
     "execution_count": 8,
     "metadata": {},
     "output_type": "execute_result"
    }
   ],
   "source": [
    "#Если мы хотим получить ответ с номером строки, наванием и кодом imdb\n",
    "answers['2'] = data.loc[data['runtime']==data.runtime.max()].original_title + ' (' + data.loc[data['runtime']==data.runtime.max()].imdb_id + ')'\n",
    "answers['2'] # Выводим ответ"
   ]
  },
  {
   "cell_type": "markdown",
   "metadata": {
    "colab_type": "text",
    "id": "bapLlpW8Vp-k"
   },
   "source": [
    "# 3. Какой из фильмов самый короткий (в минутах)?\n",
    "\n",
    "\n",
    "\n"
   ]
  },
  {
   "cell_type": "code",
   "execution_count": 9,
   "metadata": {
    "colab": {},
    "colab_type": "code",
    "id": "YBxaSHuAVp-l"
   },
   "outputs": [
    {
     "data": {
      "text/plain": [
       "768    Winnie the Pooh\n",
       "Name: original_title, dtype: object"
      ]
     },
     "execution_count": 9,
     "metadata": {},
     "output_type": "execute_result"
    }
   ],
   "source": [
    "# В данной задаче нам ужно найти фильм с минимальным 'runtime'\n",
    "answers['3'] = data.loc[data['runtime']==data.runtime.min()].original_title\n",
    "answers['3'] # Выводим ответ"
   ]
  },
  {
   "cell_type": "markdown",
   "metadata": {},
   "source": [
    "ВАРИАНТ 2"
   ]
  },
  {
   "cell_type": "code",
   "execution_count": 10,
   "metadata": {},
   "outputs": [
    {
     "data": {
      "text/plain": [
       "768    Winnie the Pooh (tt1449283)\n",
       "dtype: object"
      ]
     },
     "execution_count": 10,
     "metadata": {},
     "output_type": "execute_result"
    }
   ],
   "source": [
    "#Если мы хотим получить ответ с номером строки, наванием и кодом imdb\n",
    "answers['3'] =  data.loc[data['runtime']==data.runtime.min()].original_title + ' (' + data.loc[data['runtime']==data.runtime.min()].imdb_id + ')'\n",
    "answers['3'] # Выводим ответ"
   ]
  },
  {
   "cell_type": "markdown",
   "metadata": {
    "colab_type": "text",
    "id": "TfQbxbfNVp-p"
   },
   "source": [
    "# 4. Какова средняя длительность фильмов?\n"
   ]
  },
  {
   "cell_type": "code",
   "execution_count": 11,
   "metadata": {
    "colab": {},
    "colab_type": "code",
    "id": "5K6dKZYVVp-q"
   },
   "outputs": [
    {
     "data": {
      "text/plain": [
       "110"
      ]
     },
     "execution_count": 11,
     "metadata": {},
     "output_type": "execute_result"
    }
   ],
   "source": [
    "# Просто находим среднее значение (mean) по столбцу runtime с округлением (round)\n",
    "answers['4'] = round(data.runtime.mean())\n",
    "answers['4'] # Выводим ответ"
   ]
  },
  {
   "cell_type": "markdown",
   "metadata": {
    "colab_type": "text",
    "id": "r5TvbnT_Vp-u"
   },
   "source": [
    "# 5. Каково медианное значение длительности фильмов? "
   ]
  },
  {
   "cell_type": "code",
   "execution_count": 12,
   "metadata": {
    "colab": {},
    "colab_type": "code",
    "id": "iBROplKnVp-v"
   },
   "outputs": [
    {
     "data": {
      "text/plain": [
       "107"
      ]
     },
     "execution_count": 12,
     "metadata": {},
     "output_type": "execute_result"
    }
   ],
   "source": [
    "# Просто находим среднее значение (median) по столбцу runtime с округлением (round)\n",
    "answers['5'] = round(data.runtime.median())\n",
    "answers['5'] # Выводим ответ"
   ]
  },
  {
   "cell_type": "markdown",
   "metadata": {
    "colab_type": "text",
    "id": "39P-deDSVp-y"
   },
   "source": [
    "# 6. Какой самый прибыльный фильм?\n",
    "#### Внимание! Здесь и далее под «прибылью» или «убытками» понимается разность между сборами и бюджетом фильма. (прибыль = сборы - бюджет) в нашем датасете это будет (profit = revenue - budget) "
   ]
  },
  {
   "cell_type": "code",
   "execution_count": 13,
   "metadata": {
    "colab": {},
    "colab_type": "code",
    "id": "UYZh4T9WVp-y"
   },
   "outputs": [
    {
     "data": {
      "text/plain": [
       "239    Avatar\n",
       "Name: original_title, dtype: object"
      ]
     },
     "execution_count": 13,
     "metadata": {},
     "output_type": "execute_result"
    }
   ],
   "source": [
    "answers['6'] = data.loc[data['profit']==data.profit.max()].original_title\n",
    "answers['6'] # Выводим ответ"
   ]
  },
  {
   "cell_type": "markdown",
   "metadata": {},
   "source": [
    "ВАРИАНТ 2"
   ]
  },
  {
   "cell_type": "code",
   "execution_count": 14,
   "metadata": {},
   "outputs": [
    {
     "data": {
      "text/plain": [
       "239    Avatar (tt0499549)\n",
       "dtype: object"
      ]
     },
     "execution_count": 14,
     "metadata": {},
     "output_type": "execute_result"
    }
   ],
   "source": [
    "answers['6'] =  data.loc[data['profit']==data.profit.max()].original_title + ' (' + data.loc[data['profit']==data.profit.max()].imdb_id + ')' \n",
    "answers['6'] # Выводим ответ"
   ]
  },
  {
   "cell_type": "markdown",
   "metadata": {
    "colab_type": "text",
    "id": "M99JmIX4Vp-2"
   },
   "source": [
    "# 7. Какой фильм самый убыточный? "
   ]
  },
  {
   "cell_type": "code",
   "execution_count": 15,
   "metadata": {
    "colab": {},
    "colab_type": "code",
    "id": "w-D2m4XPVp-3"
   },
   "outputs": [
    {
     "data": {
      "text/plain": [
       "1245    The Lone Ranger\n",
       "Name: original_title, dtype: object"
      ]
     },
     "execution_count": 15,
     "metadata": {},
     "output_type": "execute_result"
    }
   ],
   "source": [
    "answers['7'] = data.loc[data['profit']==data.profit.min()].original_title\n",
    "answers['7'] # Выводим ответ"
   ]
  },
  {
   "cell_type": "markdown",
   "metadata": {},
   "source": [
    "ВАРИАНТ 2"
   ]
  },
  {
   "cell_type": "code",
   "execution_count": 16,
   "metadata": {},
   "outputs": [
    {
     "data": {
      "text/plain": [
       "1245    The Lone Ranger (tt1210819)\n",
       "dtype: object"
      ]
     },
     "execution_count": 16,
     "metadata": {},
     "output_type": "execute_result"
    }
   ],
   "source": [
    "answers['7'] =  data.loc[data['profit']==data.profit.min()].original_title + ' (' + data.loc[data['profit']==data.profit.min()].imdb_id + ')' \n",
    "answers['7'] # Выводим ответ"
   ]
  },
  {
   "cell_type": "markdown",
   "metadata": {
    "colab_type": "text",
    "id": "wEOM5ERVVp-6"
   },
   "source": [
    "# 8. У скольких фильмов из датасета объем сборов оказался выше бюджета?"
   ]
  },
  {
   "cell_type": "code",
   "execution_count": 17,
   "metadata": {
    "colab": {},
    "colab_type": "code",
    "id": "y00_7HD6Vp-7"
   },
   "outputs": [
    {
     "data": {
      "text/plain": [
       "1478"
      ]
     },
     "execution_count": 17,
     "metadata": {},
     "output_type": "execute_result"
    }
   ],
   "source": [
    "answers['8'] = len(data.loc[data['revenue']>data.budget])\n",
    "answers['8'] # Выводим ответ"
   ]
  },
  {
   "cell_type": "markdown",
   "metadata": {
    "colab_type": "text",
    "id": "xhpspA9KVp_A"
   },
   "source": [
    "# 9. Какой фильм оказался самым кассовым в 2008 году?"
   ]
  },
  {
   "cell_type": "code",
   "execution_count": 18,
   "metadata": {
    "colab": {},
    "colab_type": "code",
    "id": "MoUyQr9RVp_B"
   },
   "outputs": [
    {
     "data": {
      "text/plain": [
       "599    The Dark Knight\n",
       "Name: original_title, dtype: object"
      ]
     },
     "execution_count": 18,
     "metadata": {},
     "output_type": "execute_result"
    }
   ],
   "source": [
    "# Создаем датасет с фильмами 2008 года\n",
    "data_2008 = data.loc[data['release_year'] == 2008]\n",
    "\n",
    "# Ищем в датасете фильмов 2008 года самый кассовый\n",
    "answers['9'] = data_2008.loc[data_2008['revenue'] == data_2008.revenue.max()].original_title\n",
    "answers['9'] # Выводим ответ"
   ]
  },
  {
   "cell_type": "markdown",
   "metadata": {},
   "source": [
    "ВАРИАНТ 2"
   ]
  },
  {
   "cell_type": "code",
   "execution_count": 19,
   "metadata": {},
   "outputs": [
    {
     "data": {
      "text/plain": [
       "599    The Dark Knight (tt0468569)\n",
       "dtype: object"
      ]
     },
     "execution_count": 19,
     "metadata": {},
     "output_type": "execute_result"
    }
   ],
   "source": [
    "# Создаем датасет с фильмами 2008 года\n",
    "data_2008 = data.loc[data['release_year'] == 2008]\n",
    "\n",
    "# Ищем в датасете фильмов 2008 года самый кассовый (revenue)\n",
    "answers['9'] = data_2008.loc[data_2008['revenue'] == data_2008.revenue.max()].original_title + ' (' + data_2008.loc[data_2008['revenue'] == data_2008.revenue.max()].imdb_id + ')' \n",
    "answers['9'] # Выводим ответ"
   ]
  },
  {
   "cell_type": "markdown",
   "metadata": {
    "colab_type": "text",
    "id": "Zi4hDKidVp_F"
   },
   "source": [
    "# 10. Самый убыточный фильм за период с 2012 по 2014 г. (включительно)?\n"
   ]
  },
  {
   "cell_type": "code",
   "execution_count": 20,
   "metadata": {
    "colab": {},
    "colab_type": "code",
    "id": "XqyRmufJVp_F"
   },
   "outputs": [
    {
     "data": {
      "text/plain": [
       "1245    The Lone Ranger (tt1210819)\n",
       "dtype: object"
      ]
     },
     "execution_count": 20,
     "metadata": {},
     "output_type": "execute_result"
    }
   ],
   "source": [
    "# Создаем датасет с фильмами 2012-2014 года\n",
    "data_2012_2014 = data.loc[(data['release_year'] <= 2014) & (data['release_year'] >= 2012)]\n",
    "# Название датафрейма не самое лучшее с точки зрения удобства использования, но понятное по названию\n",
    "\n",
    "# Ищем в датасете фильмов 2012-2014 года самый убыточный по profit\n",
    "answers['10'] = data_2012_2014.loc[data_2012_2014['profit'] == data_2012_2014.profit.min()].original_title + ' (' + data_2012_2014.loc[data_2012_2014['profit'] == data_2012_2014.profit.min()].imdb_id + ')' \n",
    "\n",
    "# Тут и далее будет только вариант ответа в читаемом человеком виде\n",
    "answers['10'] # Выводим ответ"
   ]
  },
  {
   "cell_type": "markdown",
   "metadata": {
    "colab_type": "text",
    "id": "EA7Sa9dkVp_I"
   },
   "source": [
    "# 11. Какого жанра фильмов больше всего?"
   ]
  },
  {
   "cell_type": "code",
   "execution_count": 153,
   "metadata": {
    "colab": {},
    "colab_type": "code",
    "id": "zsJAwJ8QVp_J"
   },
   "outputs": [
    {
     "data": {
      "text/plain": [
       "[('Drama', 782)]"
      ]
     },
     "execution_count": 153,
     "metadata": {},
     "output_type": "execute_result"
    }
   ],
   "source": [
    "# эту задачу тоже можно решать разными подходами, попробуй реализовать разные варианты\n",
    "# если будешь добавлять функцию - выноси ее в предобработку что в начале\n",
    "data_copy_11 = data.copy()\n",
    "data_copy_11['genres'] = data_copy_11.genres.str.split('|')\n",
    "genres = data_copy_11.explode('genres')['genres']\n",
    "counter_genres = Counter(genres)\n",
    "\n",
    "# Считаем самый популярный жанр\n",
    "answers['11'] = counter_genres.most_common(1)\n",
    "answers['11'] # Выводим ответ\n"
   ]
  },
  {
   "cell_type": "markdown",
   "metadata": {
    "colab_type": "text",
    "id": "Ax6g2C8SVp_M"
   },
   "source": [
    "ВАРИАНТ 2"
   ]
  },
  {
   "cell_type": "code",
   "execution_count": 152,
   "metadata": {},
   "outputs": [
    {
     "data": {
      "text/plain": [
       "Drama    782\n",
       "Name: genres, dtype: int64"
      ]
     },
     "execution_count": 152,
     "metadata": {},
     "output_type": "execute_result"
    }
   ],
   "source": [
    "data_copy_11 = data.copy()\n",
    "data_copy_11['genres'] = data_copy_11.genres.str.split('|')\n",
    "data_copy_11 = data_copy_11.explode('genres')\n",
    "\n",
    "answers['11'] = data_copy_11['genres'].value_counts().head(1)\n",
    "answers['11'] # Выводим ответ"
   ]
  },
  {
   "cell_type": "markdown",
   "metadata": {
    "colab_type": "text",
    "id": "T9_bPWpkVp_Q"
   },
   "source": [
    "# 12. Фильмы какого жанра чаще всего становятся прибыльными? "
   ]
  },
  {
   "cell_type": "code",
   "execution_count": 23,
   "metadata": {
    "scrolled": true
   },
   "outputs": [
    {
     "data": {
      "text/html": [
       "<div>\n",
       "<style scoped>\n",
       "    .dataframe tbody tr th:only-of-type {\n",
       "        vertical-align: middle;\n",
       "    }\n",
       "\n",
       "    .dataframe tbody tr th {\n",
       "        vertical-align: top;\n",
       "    }\n",
       "\n",
       "    .dataframe thead th {\n",
       "        text-align: right;\n",
       "    }\n",
       "</style>\n",
       "<table border=\"1\" class=\"dataframe\">\n",
       "  <thead>\n",
       "    <tr style=\"text-align: right;\">\n",
       "      <th></th>\n",
       "      <th>profit</th>\n",
       "    </tr>\n",
       "    <tr>\n",
       "      <th>genres</th>\n",
       "      <th></th>\n",
       "    </tr>\n",
       "  </thead>\n",
       "  <tbody>\n",
       "    <tr>\n",
       "      <th>Adventure</th>\n",
       "      <td>86070466981</td>\n",
       "    </tr>\n",
       "  </tbody>\n",
       "</table>\n",
       "</div>"
      ],
      "text/plain": [
       "                profit\n",
       "genres                \n",
       "Adventure  86070466981"
      ]
     },
     "execution_count": 23,
     "metadata": {},
     "output_type": "execute_result"
    }
   ],
   "source": [
    "df = data_copy.explode('genres')\n",
    "\n",
    "# Суммируем прибыль по жанрам\n",
    "df_genres = df.groupby('genres').sum()[['profit']]\n",
    "\n",
    "# Выбираем самые выокобюджетные фильмы\n",
    "answers['12'] = df_genres.loc[df_genres.profit == df_genres.profit.max()]\n",
    "answers['12'] # Выводим ответ"
   ]
  },
  {
   "cell_type": "markdown",
   "metadata": {
    "colab_type": "text",
    "id": "0F23bgsDVp_U"
   },
   "source": [
    "# 13. У какого режиссера самые большие суммарные кассовые сборы?"
   ]
  },
  {
   "cell_type": "code",
   "execution_count": 136,
   "metadata": {
    "colab": {},
    "colab_type": "code",
    "id": "K6Z3J8ygVp_X"
   },
   "outputs": [
    {
     "data": {
      "text/html": [
       "<div>\n",
       "<style scoped>\n",
       "    .dataframe tbody tr th:only-of-type {\n",
       "        vertical-align: middle;\n",
       "    }\n",
       "\n",
       "    .dataframe tbody tr th {\n",
       "        vertical-align: top;\n",
       "    }\n",
       "\n",
       "    .dataframe thead th {\n",
       "        text-align: right;\n",
       "    }\n",
       "</style>\n",
       "<table border=\"1\" class=\"dataframe\">\n",
       "  <thead>\n",
       "    <tr style=\"text-align: right;\">\n",
       "      <th></th>\n",
       "      <th>revenue</th>\n",
       "    </tr>\n",
       "    <tr>\n",
       "      <th>director</th>\n",
       "      <th></th>\n",
       "    </tr>\n",
       "  </thead>\n",
       "  <tbody>\n",
       "    <tr>\n",
       "      <th>Peter Jackson</th>\n",
       "      <td>6490593685</td>\n",
       "    </tr>\n",
       "  </tbody>\n",
       "</table>\n",
       "</div>"
      ],
      "text/plain": [
       "                  revenue\n",
       "director                 \n",
       "Peter Jackson  6490593685"
      ]
     },
     "execution_count": 136,
     "metadata": {},
     "output_type": "execute_result"
    }
   ],
   "source": [
    "data_copy_13 = data.copy()\n",
    "\n",
    "# Разделяем данные по режиссерам\n",
    "df = data_copy_13.explode('director')\n",
    "df_director = df.groupby('director').sum()[['revenue']]\n",
    "\n",
    "# Отбираем данные по саммым высоким кассовым сборам\n",
    "answers['13'] = df_director.loc[df_director.revenue == df_director.revenue.max()]\n",
    "answers['13'] # Выводим ответ"
   ]
  },
  {
   "cell_type": "markdown",
   "metadata": {
    "colab_type": "text",
    "id": "PsYC9FgRVp_a"
   },
   "source": [
    "# 14. Какой режисер снял больше всего фильмов в стиле Action?"
   ]
  },
  {
   "cell_type": "code",
   "execution_count": 138,
   "metadata": {
    "colab": {},
    "colab_type": "code",
    "id": "wd2M-wHeVp_b"
   },
   "outputs": [
    {
     "data": {
      "text/plain": [
       "director\n",
       "Robert Rodriguez    9\n",
       "Name: director, dtype: int64"
      ]
     },
     "execution_count": 138,
     "metadata": {},
     "output_type": "execute_result"
    }
   ],
   "source": [
    "data_copy_14 = data.copy()\n",
    "\n",
    "# Разделяем данные по режиссерам\n",
    "data_copy_14['director'] = data_copy_14.director.str.split('|')\n",
    "data_copy_14['genres'] = data_copy_14.genres.str.split('|')\n",
    "df = data_copy_14.explode('director').explode('genres')\n",
    "df_action = df.query('genres in [\"Action\"]')\n",
    "\n",
    "# Группируем данные по режиссерам снявшим Actionы, сортируем по убыванию и выводим первое значение\n",
    "answers['14'] = df_action.groupby('director')['director'].count().sort_values(ascending=False).head(1)\n",
    "answers['14'] # Выводим ответ"
   ]
  },
  {
   "cell_type": "markdown",
   "metadata": {
    "colab_type": "text",
    "id": "PQ0KciD7Vp_f"
   },
   "source": [
    "# 15. Фильмы с каким актером принесли самые высокие кассовые сборы в 2012 году? "
   ]
  },
  {
   "cell_type": "code",
   "execution_count": 137,
   "metadata": {
    "colab": {},
    "colab_type": "code",
    "id": "aga62oeKVp_g"
   },
   "outputs": [
    {
     "data": {
      "text/plain": [
       "cast\n",
       "Chris Hemsworth    2027450773\n",
       "Name: revenue, dtype: int64"
      ]
     },
     "execution_count": 137,
     "metadata": {},
     "output_type": "execute_result"
    }
   ],
   "source": [
    "data_copy_15 = data.copy()\n",
    "\n",
    "# Разделяем фильмы по актерам\n",
    "data_copy_15['cast'] = data_copy_15.cast.str.split('|')\n",
    "df = data_copy_15.explode('cast')\n",
    "# Отбираем фильмы 2012 года\n",
    "df_2012 = df.loc[df.release_year == 2012]\n",
    "\n",
    "# Группируем данные по актерам по сборам, ортируем по убыванию и выводим первое значение\n",
    "answers['15'] = df_2012.groupby('cast')['revenue'].sum().sort_values(ascending=False).head(1)\n",
    "answers['15'] # Выводим ответ"
   ]
  },
  {
   "cell_type": "markdown",
   "metadata": {
    "colab_type": "text",
    "id": "mWHyyL7QVp_j"
   },
   "source": [
    "# 16. Какой актер снялся в большем количестве высокобюджетных фильмов?"
   ]
  },
  {
   "cell_type": "code",
   "execution_count": 27,
   "metadata": {
    "colab": {},
    "colab_type": "code",
    "id": "qQtmHKTFVp_k"
   },
   "outputs": [
    {
     "data": {
      "text/plain": [
       "Matt Damon    18\n",
       "Name: cast, dtype: int64"
      ]
     },
     "execution_count": 27,
     "metadata": {},
     "output_type": "execute_result"
    }
   ],
   "source": [
    "data_copy_16 = data.copy()\n",
    "\n",
    "# Разделяем данные по актерам\n",
    "data_copy_16['cast'] = data_copy_16.cast.str.split('|')\n",
    "df_16 = data_copy_16.explode('cast')\n",
    "\n",
    "# Определяем высокобюджетные фильмы\n",
    "budget_more_than_mean = df_16[df_16['budget'] > df_16['budget'].mean()]\n",
    "\n",
    "# Выводим первого актера по количеству высокобюджетных фильмов\n",
    "answers['16'] = budget_more_than_mean['cast'].value_counts().head(1)\n",
    "answers['16'] # Выводим ответ"
   ]
  },
  {
   "cell_type": "markdown",
   "metadata": {
    "colab_type": "text",
    "id": "NIh6AaW5Vp_n"
   },
   "source": [
    "# 17. В фильмах какого жанра больше всего снимался Nicolas Cage? "
   ]
  },
  {
   "cell_type": "code",
   "execution_count": 131,
   "metadata": {
    "colab": {},
    "colab_type": "code",
    "id": "H74SJDIBVp_n"
   },
   "outputs": [
    {
     "data": {
      "text/plain": [
       "Action    17\n",
       "Name: genres, dtype: int64"
      ]
     },
     "execution_count": 131,
     "metadata": {},
     "output_type": "execute_result"
    }
   ],
   "source": [
    "data_copy_17 = data.copy()\n",
    "\n",
    "# Разделяем данные по актерам и жанрам\n",
    "data_copy_17['cast'] = data_copy_17.cast.str.split('|')\n",
    "data_copy_17['genres'] = data_copy_17.genres.str.split('|')\n",
    "data_copy_17 = data_copy_17.explode('cast')\n",
    "df_nic_cage = data_copy_17[data_copy_17['cast'] == 'Nicolas Cage']\n",
    "df_nic_cage = df_nic_cage.explode('genres')\n",
    "\n",
    "# Считаем фильмы с Николасом Кейджем и вывоим первый жанр\n",
    "answers['17'] = df_nic_cage['genres'].value_counts().head(1)\n",
    "answers['17'] # Выводим ответ"
   ]
  },
  {
   "cell_type": "markdown",
   "metadata": {
    "colab_type": "text",
    "id": "RqOmPRfWVp_q"
   },
   "source": [
    "# 18. Самый убыточный фильм от Paramount Pictures"
   ]
  },
  {
   "cell_type": "code",
   "execution_count": 29,
   "metadata": {
    "colab": {},
    "colab_type": "code",
    "id": "9E_B0Y96Vp_r"
   },
   "outputs": [
    {
     "data": {
      "text/plain": [
       "925    K-19: The Widowmaker\n",
       "Name: original_title, dtype: object"
      ]
     },
     "execution_count": 29,
     "metadata": {},
     "output_type": "execute_result"
    }
   ],
   "source": [
    "data_copy_18 = data.copy()\n",
    "\n",
    "# Разделяем данные по студиям и отбираем Paramount Pictures\n",
    "data_copy_18['production_companies'] = data_copy_18.production_companies.str.split('|')\n",
    "data_copy_18 = data_copy_18.explode('production_companies')\n",
    "data_paramount = data_copy_18[data_copy_18.production_companies == 'Paramount Pictures']\n",
    "\n",
    "# Выбираем самый убыточный фильм Paramount и выводим его название\n",
    "answers['18'] = data_paramount.loc[data_paramount.profit == data_paramount.profit.min()].original_title\n",
    "answers['18'] # Выводим ответ"
   ]
  },
  {
   "cell_type": "markdown",
   "metadata": {
    "colab_type": "text",
    "id": "vS8Ur6ddVp_u"
   },
   "source": [
    "# 19. Какой год стал самым успешным по суммарным кассовым сборам?"
   ]
  },
  {
   "cell_type": "code",
   "execution_count": 123,
   "metadata": {
    "colab": {},
    "colab_type": "code",
    "id": "Dnbt4GdIVp_v"
   },
   "outputs": [
    {
     "data": {
      "text/plain": [
       "release_year\n",
       "2015    25449202382\n",
       "Name: revenue, dtype: int64"
      ]
     },
     "execution_count": 123,
     "metadata": {},
     "output_type": "execute_result"
    }
   ],
   "source": [
    "data_copy_19 = data.copy()\n",
    "\n",
    "# Группируем данные по кассовым сборам по годам, сортируем по убыванию и выводи первое значение\n",
    "answers['19'] = data_copy.groupby('release_year')['revenue'].sum().sort_values(ascending=False).head(1)\n",
    "answers['19'] # Выводим ответ"
   ]
  },
  {
   "cell_type": "markdown",
   "metadata": {
    "colab_type": "text",
    "id": "JAzJh4QAVp_z"
   },
   "source": [
    "# 20. Какой самый прибыльный год для студии Warner Bros?"
   ]
  },
  {
   "cell_type": "code",
   "execution_count": 31,
   "metadata": {
    "colab": {},
    "colab_type": "code",
    "id": "wgVu02DEVp_0"
   },
   "outputs": [
    {
     "data": {
      "text/plain": [
       "release_year\n",
       "2014    2292949646\n",
       "Name: profit, dtype: int64"
      ]
     },
     "execution_count": 31,
     "metadata": {},
     "output_type": "execute_result"
    }
   ],
   "source": [
    "data_copy_20 = data.copy()\n",
    "\n",
    "# Разделяем данные по студиям\n",
    "data_copy_20['production_companies'] = data_copy_20.production_companies.str.split('|')\n",
    "WarnBros = data_copy_20.explode('production_companies')\n",
    "\n",
    "# Выбираем данные, которые содержат старое и новое название студии Warner Bros\n",
    "WarnBros = WarnBros[WarnBros.production_companies.str.contains (\"Warner Bros.\", na=False)]\n",
    "\n",
    "# Группируем данные по прибыли в год, сортируем по убыванию и выбираем первое значение\n",
    "answers['20'] = WarnBros.groupby('release_year')['profit'].sum().sort_values(ascending=False).head(1)\n",
    "answers['20'] # Выводим ответ"
   ]
  },
  {
   "cell_type": "markdown",
   "metadata": {
    "colab_type": "text",
    "id": "8Im1S2HRVp_4"
   },
   "source": [
    "# 21. В каком месяце за все годы суммарно вышло больше всего фильмов?"
   ]
  },
  {
   "cell_type": "code",
   "execution_count": 32,
   "metadata": {
    "colab": {},
    "colab_type": "code",
    "id": "lev6TH7gVp_4"
   },
   "outputs": [
    {
     "data": {
      "text/plain": [
       "month\n",
       "September    227\n",
       "Name: revenue, dtype: int64"
      ]
     },
     "execution_count": 32,
     "metadata": {},
     "output_type": "execute_result"
    }
   ],
   "source": [
    "df = data.copy()\n",
    "# Т.К. столбец \"Месяц\" выведен в предобработку\n",
    "# группируем данные по месяцам, сортируем по убыванию и выводим первое значение\n",
    "answers['21'] = df.groupby('month')['revenue'].count().sort_values(ascending=False).head(1)\n",
    "answers['21'] # Выводим ответ"
   ]
  },
  {
   "cell_type": "markdown",
   "metadata": {
    "colab_type": "text",
    "id": "uAJsZ_NeVp_7"
   },
   "source": [
    "# 22. Сколько суммарно вышло фильмов летом? (за июнь, июль, август)"
   ]
  },
  {
   "cell_type": "code",
   "execution_count": 33,
   "metadata": {
    "colab": {},
    "colab_type": "code",
    "id": "Aa-hEREoVp_8"
   },
   "outputs": [
    {
     "data": {
      "text/plain": [
       "season\n",
       "Autumn    559\n",
       "Name: imdb_id, dtype: int64"
      ]
     },
     "execution_count": 33,
     "metadata": {},
     "output_type": "execute_result"
    }
   ],
   "source": [
    "df = data.copy()\n",
    "\n",
    "# Т.К. столбец \"Сезон\" выведен в предобработку, просто группируем данные за лето,\n",
    "# сортируем по убыванию и выводим первое значение\n",
    "answers['22'] = df.groupby('season')['imdb_id'].count().sort_values(ascending=False).head(1)\n",
    "answers['22'] # Выводим ответ\n"
   ]
  },
  {
   "cell_type": "markdown",
   "metadata": {
    "colab_type": "text",
    "id": "G94ppOY1VqAA"
   },
   "source": [
    "# 23. Для какого режиссера зима – самое продуктивное время года? "
   ]
  },
  {
   "cell_type": "code",
   "execution_count": 34,
   "metadata": {
    "colab": {},
    "colab_type": "code",
    "id": "RhNTsamuVqAB"
   },
   "outputs": [
    {
     "data": {
      "text/plain": [
       "director\n",
       "Peter Jackson    7\n",
       "Name: imdb_id, dtype: int64"
      ]
     },
     "execution_count": 34,
     "metadata": {},
     "output_type": "execute_result"
    }
   ],
   "source": [
    "df_23 = data.copy()\n",
    "\n",
    "# Разделяем режиссеров в данных\n",
    "df_23['director'] = df_23.director.str.split('|')\n",
    "dir_23 = df_23.explode('director')\n",
    "\n",
    "# Выбираем фильмы вышедшие зимой \n",
    "dir_23 = dir_23.loc[dir_23['season'] == 'Winter']\n",
    "\n",
    "# Считаем фильмы по каждому режиссеру, сортируем по убыванию и выводим первое значение\n",
    "answers['23'] = dir_23.groupby('director')['imdb_id'].count().sort_values(ascending=False).head(1)\n",
    "answers['23'] # Выводим ответ"
   ]
  },
  {
   "cell_type": "markdown",
   "metadata": {
    "colab_type": "text",
    "id": "RBo0JVjVVqAF"
   },
   "source": [
    "# 24. Какая студия дает самые длинные названия своим фильмам по количеству символов?"
   ]
  },
  {
   "cell_type": "code",
   "execution_count": 35,
   "metadata": {
    "colab": {},
    "colab_type": "code",
    "id": "QRGS8L0iVqAG"
   },
   "outputs": [
    {
     "data": {
      "text/plain": [
       "production_companies\n",
       "Four By Two Productions    83.0\n",
       "Name: title_len, dtype: float64"
      ]
     },
     "execution_count": 35,
     "metadata": {},
     "output_type": "execute_result"
    }
   ],
   "source": [
    "df_24 = data.copy()\n",
    "\n",
    "# Разделяем студии\n",
    "df_24['production_companies'] = df_24['production_companies'].str.split('|')\n",
    "df_24 = df_24.explode('production_companies')\n",
    "\n",
    "# Создаем столбец с длинной названий фильмов\n",
    "df_24['title_len'] = df_24.original_title.apply(lambda x: len(x))\n",
    "\n",
    "# Группируем данные по среднему значению для студии, сортируем по убыванию и выводим первое значение \n",
    "answers['24'] = df_24.groupby('production_companies')['title_len'].mean().sort_values(ascending=False).head(1)\n",
    "answers['24'] # Выводим ответ"
   ]
  },
  {
   "cell_type": "markdown",
   "metadata": {
    "colab_type": "text",
    "id": "9G0hbvR7VqAK"
   },
   "source": [
    "# 25. Описание фильмов какой студии в среднем самые длинные по количеству слов?"
   ]
  },
  {
   "cell_type": "code",
   "execution_count": 36,
   "metadata": {
    "colab": {},
    "colab_type": "code",
    "id": "Ge2GsLNxVqAK"
   },
   "outputs": [
    {
     "data": {
      "text/plain": [
       "production_companies\n",
       "Midnight Picture Show    175.0\n",
       "Name: overview_len, dtype: float64"
      ]
     },
     "execution_count": 36,
     "metadata": {},
     "output_type": "execute_result"
    }
   ],
   "source": [
    "df_25 = data.copy()\n",
    "\n",
    "# Разделяем студии \n",
    "df_25['production_companies'] = df_25['production_companies'].str.split('|')\n",
    "df_25 = df_25.explode('production_companies')\n",
    "\n",
    "# Создаем столбец с динной названия\n",
    "df_25['overview_len'] = df_25['overview'].str.split().apply(len)\n",
    "\n",
    "# Выводим самое длинное описание\n",
    "answers['25'] = df_25.groupby('production_companies')['overview_len'].mean().sort_values(ascending=False).head(1)\n",
    "answers['25'] # Выводим ответ"
   ]
  },
  {
   "cell_type": "markdown",
   "metadata": {
    "colab_type": "text",
    "id": "FJ1AFt90VqAP"
   },
   "source": [
    "# 26. Какие фильмы входят в 1 процент лучших по рейтингу? \n",
    "по vote_average"
   ]
  },
  {
   "cell_type": "code",
   "execution_count": 154,
   "metadata": {
    "colab": {},
    "colab_type": "code",
    "id": "8qmJVq4CVqAQ"
   },
   "outputs": [
    {
     "data": {
      "text/plain": [
       "9                                              Inside Out\n",
       "28                                              Spotlight\n",
       "34                                                   Room\n",
       "118                                          Interstellar\n",
       "119                               Guardians of the Galaxy\n",
       "124                                            Big Hero 6\n",
       "125                                    The Imitation Game\n",
       "128                                             Gone Girl\n",
       "138                              The Grand Budapest Hotel\n",
       "155                              The Theory of Everything\n",
       "177                                The Fault in Our Stars\n",
       "283                                            Mr. Nobody\n",
       "316                                              3 Idiots\n",
       "370                                             Inception\n",
       "496     The Lord of the Rings: The Fellowship of the Ring\n",
       "599                                       The Dark Knight\n",
       "863                 The Lord of the Rings: The Two Towers\n",
       "872                                           The Pianist\n",
       "1081        The Lord of the Rings: The Return of the King\n",
       "1183                              The Wolf of Wall Street\n",
       "1188                                                  Her\n",
       "1191                                     12 Years a Slave\n",
       "1205                                            Prisoners\n",
       "1213                                   Dallas Buyers Club\n",
       "1444                                         The Prestige\n",
       "1563                Eternal Sunshine of the Spotless Mind\n",
       "1688                                  There Will Be Blood\n",
       "1800                                              Memento\n",
       "Name: original_title, dtype: object"
      ]
     },
     "execution_count": 154,
     "metadata": {},
     "output_type": "execute_result"
    }
   ],
   "source": [
    "df_26 = data.copy()\n",
    "df_top = df_26['vote_average'].sort_values(ascending=False).head(round(len(df_26['vote_average'])/100))\n",
    "df_for_match = df_26.loc[df_26['vote_average'] >= df_top.min()]['original_title']\n",
    "df_for_match = pd.DataFrame(df_for_match, columns = ['original_title'])\n",
    "\n",
    "ans_var = {'answer1' : ['Inside Out', 'The Dark Knight', '12 Years a Slave'],\n",
    "           'answer2' : ['BloodRayne', 'The Adventures of Rocky & Bullwinkle'],\n",
    "           'answer3' : ['Batman Begins', 'The Lord of the Rings: The Return of the King', 'Upside Down'],\n",
    "           'answer4' : ['300', 'Lucky Number Slevin', 'Kill Bill: Vol. 1'],\n",
    "           'answer5' : ['Upside Down', 'Inside Out', 'Iron Man']}\n",
    "\n",
    "df_for_match['original_title']\n",
    "# Я не нашел способа сопоставить ответы, которые разместил в ans_var\n",
    "# и df_for_match буду признателен за обратную связь"
   ]
  },
  {
   "cell_type": "markdown",
   "metadata": {
    "colab_type": "text",
    "id": "MdXsUXbCVqAV"
   },
   "source": [
    "# 27. Какие актеры чаще всего снимаются в одном фильме вместе?\n"
   ]
  },
  {
   "cell_type": "code",
   "execution_count": 117,
   "metadata": {},
   "outputs": [
    {
     "data": {
      "text/plain": [
       "'Daniel Radcliffe & Rupert Grint'"
      ]
     },
     "execution_count": 117,
     "metadata": {},
     "output_type": "execute_result"
    }
   ],
   "source": [
    "df_27 = data.copy()\n",
    "\n",
    "# Отбираем фильмы по парам из ответом\n",
    "q27_ans1 = df_27[df_27.cast.str.contains('Johnny Depp') & df_27.cast.str.contains('Helena Bonham Carter')]\n",
    "q27_ans2 = df_27[df_27.cast.str.contains('Ben Stiller') & df_27.cast.str.contains('Owen Wilson')]\n",
    "q27_ans3 = df_27[df_27.cast.str.contains('Vin Diesel') & df_27.cast.str.contains('Paul Walker')]\n",
    "q27_ans4 = df_27[df_27.cast.str.contains('Adam Sandler') & df_27.cast.str.contains('Kevin James')]\n",
    "q27_ans5 = df_27[df_27.cast.str.contains('Daniel Radcliffe') & df_27.cast.str.contains('Rupert Grint')]\n",
    "\n",
    "# Создаем словарь с парами актеров и количеством фильмов\n",
    "q27_answers = {'Johnny Depp & Helena Bonham Carter' : len(q27_ans1), 'Ben Stiller & Owen Wilson' : len(q27_ans2),\n",
    "              'Vin Diesel & Paul Walker' : len(q27_ans3), 'Adam Sandler & Kevin James' : len(q27_ans4),\n",
    "              'Daniel Radcliffe & Rupert Grint' : len(q27_ans5),}\n",
    "\n",
    "# В качестве ответа выбараем пару с максимальным количество фильмов\n",
    "answers['27'] = max(q27_answers, key=q27_answers.get)\n",
    "answers['27'] # Выводим ответ"
   ]
  },
  {
   "cell_type": "markdown",
   "metadata": {
    "colab_type": "text",
    "id": "4ymnxEVoVqAW"
   },
   "source": [
    "ВАРИАНТ 2"
   ]
  },
  {
   "cell_type": "markdown",
   "metadata": {
    "colab_type": "text",
    "id": "U0nONFnGVqAX"
   },
   "source": [
    "# Submission"
   ]
  },
  {
   "cell_type": "code",
   "execution_count": 101,
   "metadata": {
    "colab": {},
    "colab_type": "code",
    "id": "IfcaRO9-VqAX",
    "outputId": "0f132912-32bb-4196-c98c-abfbc4ad5a5f"
   },
   "outputs": [
    {
     "data": {
      "text/plain": [
       "{'1': 723    Pirates of the Caribbean: On Stranger Tides (t...\n",
       " dtype: object,\n",
       " '2': 1157    Gods and Generals (tt0279111)\n",
       " dtype: object,\n",
       " '3': 768    Winnie the Pooh (tt1449283)\n",
       " dtype: object,\n",
       " '4': 110,\n",
       " '5': 107,\n",
       " '6': 239    Avatar (tt0499549)\n",
       " dtype: object,\n",
       " '7': 1245    The Lone Ranger (tt1210819)\n",
       " dtype: object,\n",
       " '8': 1478,\n",
       " '9': 599    The Dark Knight (tt0468569)\n",
       " dtype: object,\n",
       " '10': 1245    The Lone Ranger (tt1210819)\n",
       " dtype: object,\n",
       " '11':   genres  imdb_id\n",
       " 0  Drama      782,\n",
       " '12':                 profit\n",
       " genres                \n",
       " Adventure  86070466981,\n",
       " '13':                   revenue\n",
       " director                 \n",
       " Peter Jackson  6490593685,\n",
       " '14': director\n",
       " Robert Rodriguez    9\n",
       " Name: director, dtype: int64,\n",
       " '15': cast\n",
       " Chris Hemsworth    2027450773\n",
       " Name: revenue, dtype: int64,\n",
       " '16': Matt Damon    18\n",
       " Name: cast, dtype: int64,\n",
       " '17': Action    17\n",
       " Name: genres, dtype: int64,\n",
       " '18': 925    K-19: The Widowmaker\n",
       " Name: original_title, dtype: object,\n",
       " '19': release_year\n",
       " 2015    25449202382\n",
       " Name: revenue, dtype: int64,\n",
       " '20': release_year\n",
       " 2014    2292949646\n",
       " Name: profit, dtype: int64,\n",
       " '21': month\n",
       " September    227\n",
       " Name: revenue, dtype: int64,\n",
       " '22': season\n",
       " Autumn    559\n",
       " Name: imdb_id, dtype: int64,\n",
       " '23': director\n",
       " Peter Jackson    7\n",
       " Name: imdb_id, dtype: int64,\n",
       " '24': production_companies\n",
       " Four By Two Productions    83.0\n",
       " Name: title_len, dtype: float64,\n",
       " '25': production_companies\n",
       " Midnight Picture Show    175.0\n",
       " Name: overview_len, dtype: float64,\n",
       " '27': 'Daniel Radcliffe & Rupert Grint'}"
      ]
     },
     "execution_count": 101,
     "metadata": {},
     "output_type": "execute_result"
    }
   ],
   "source": [
    "# в конце можно посмотреть свои ответы к каждому вопросу\n",
    "answers"
   ]
  },
  {
   "cell_type": "code",
   "execution_count": 40,
   "metadata": {
    "colab": {},
    "colab_type": "code",
    "id": "SiRmHPl8VqAd"
   },
   "outputs": [
    {
     "data": {
      "text/plain": [
       "26"
      ]
     },
     "execution_count": 40,
     "metadata": {},
     "output_type": "execute_result"
    }
   ],
   "source": [
    "# и убедиться что ни чего не пропустил)\n",
    "len(answers)"
   ]
  },
  {
   "cell_type": "code",
   "execution_count": null,
   "metadata": {
    "colab": {},
    "colab_type": "code",
    "id": "uCfuTkRbVqAg"
   },
   "outputs": [],
   "source": []
  },
  {
   "cell_type": "code",
   "execution_count": null,
   "metadata": {
    "colab": {},
    "colab_type": "code",
    "id": "Vwx3NrkSVqAl"
   },
   "outputs": [],
   "source": []
  }
 ],
 "metadata": {
  "colab": {
   "name": "Copy of [SF-DST] Movies IMBD v4.1 TEMPLATE.ipynb",
   "provenance": []
  },
  "kernelspec": {
   "display_name": "Python 3",
   "language": "python",
   "name": "python3"
  },
  "language_info": {
   "codemirror_mode": {
    "name": "ipython",
    "version": 3
   },
   "file_extension": ".py",
   "mimetype": "text/x-python",
   "name": "python",
   "nbconvert_exporter": "python",
   "pygments_lexer": "ipython3",
   "version": "3.8.5"
  }
 },
 "nbformat": 4,
 "nbformat_minor": 1
}
